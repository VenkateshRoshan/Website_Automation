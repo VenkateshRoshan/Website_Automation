{
 "cells": [
  {
   "cell_type": "markdown",
   "metadata": {},
   "source": [
    "# Website Address\n",
    "https://ceoandhra.nic.in/ceoap_new/ceo/index.html"
   ]
  },
  {
   "cell_type": "code",
   "execution_count": null,
   "metadata": {},
   "outputs": [],
   "source": []
  },
  {
   "cell_type": "markdown",
   "metadata": {},
   "source": [
    "### Libraries - Makesure chrome web browser is installed on your system\n",
    "* pip install selenium\n",
    "* pip install webdriver_manager\n",
    "* pip install easyocr\n",
    "* pip install torch\n",
    "* pip install opencv-python"
   ]
  },
  {
   "cell_type": "code",
   "execution_count": 1,
   "metadata": {},
   "outputs": [],
   "source": [
    "import os\n",
    "import cv2\n",
    "import numpy as np\n",
    "from PIL import Image\n",
    "import time\n",
    "from matplotlib import pyplot as plt\n",
    "import base64"
   ]
  },
  {
   "cell_type": "code",
   "execution_count": 2,
   "metadata": {},
   "outputs": [],
   "source": [
    "from selenium import webdriver\n",
    "from selenium.webdriver.common.by import By\n",
    "from selenium.webdriver.common.keys import Keys\n",
    "from selenium.webdriver.chrome.service import Service\n",
    "from webdriver_manager.chrome import ChromeDriverManager\n",
    "from selenium.webdriver.support.ui import WebDriverWait\n",
    "from selenium.webdriver.support import expected_conditions as EC\n",
    "from selenium.webdriver.support.ui import Select\n",
    "from selenium.webdriver.common.action_chains import ActionChains\n",
    "from selenium.webdriver.chrome.options import Options\n",
    "from selenium.common.exceptions import NoSuchElementException, TimeoutException"
   ]
  },
  {
   "cell_type": "code",
   "execution_count": 3,
   "metadata": {},
   "outputs": [],
   "source": [
    "def WAIT_TIME(t=0.5) :\n",
    "    time.sleep(t)"
   ]
  },
  {
   "cell_type": "code",
   "execution_count": 4,
   "metadata": {},
   "outputs": [],
   "source": [
    "driver = webdriver.Chrome(service=Service(ChromeDriverManager().install()))"
   ]
  },
  {
   "cell_type": "code",
   "execution_count": 5,
   "metadata": {},
   "outputs": [],
   "source": [
    "WEBSITE_URL = \"https://ceoandhra.nic.in/ceoap_new/ceo/index.html\""
   ]
  },
  {
   "cell_type": "code",
   "execution_count": 6,
   "metadata": {},
   "outputs": [],
   "source": [
    "driver.get(WEBSITE_URL)"
   ]
  },
  {
   "cell_type": "code",
   "execution_count": 7,
   "metadata": {},
   "outputs": [],
   "source": [
    "tab_name = \"Electoral Rolls\"\n",
    "sub_tab_name = \"Final SSR Eroll-2024\""
   ]
  },
  {
   "cell_type": "code",
   "execution_count": 8,
   "metadata": {},
   "outputs": [],
   "source": [
    "# Click on the tab and go to sub tab name\n",
    "\n",
    "tab = driver.find_element(By.XPATH, f\"//a[contains(text(), '{tab_name}')]\")\n",
    "tab.click()\n",
    "\n",
    "sub_tab = driver.find_element(By.XPATH, f\"//a[contains(text(), '{sub_tab_name}')]\")\n",
    "sub_tab.click()\n",
    "\n",
    "# Go to the next page make it active\n",
    "driver.switch_to.window(driver.window_handles[1])\n",
    "\n",
    "WAIT_TIME(2)"
   ]
  },
  {
   "cell_type": "code",
   "execution_count": 9,
   "metadata": {},
   "outputs": [],
   "source": [
    "# Ask State, District, Assembly Constituency, Select Language as inputs\n",
    "\n",
    "# state = input(\"Enter State: \")\n",
    "# district = input(\"Enter District: \")\n",
    "# assembly = input(\"Enter Assembly Constituency: \")\n",
    "# language = input(\"Enter Language: \")\n",
    "\n",
    "# make default as Andhra Pradesh , Anakapalli , Madugula , ENG\n",
    "\n",
    "state = \"Andhra Pradesh\"\n",
    "district = \"Anakapalli\"\n",
    "assembly = \"Madugula\"\n",
    "language = \"ENG\""
   ]
  },
  {
   "cell_type": "code",
   "execution_count": 10,
   "metadata": {},
   "outputs": [
    {
     "name": "stdout",
     "output_type": "stream",
     "text": [
      "https://voters.eci.gov.in/download-eroll?stateCode=S01\n"
     ]
    }
   ],
   "source": [
    "# show current active window name\n",
    "def show_current_window():\n",
    "    print(driver.current_url)\n",
    "    # driver.get(driver.current_url)\n",
    "\n",
    "show_current_window()"
   ]
  },
  {
   "cell_type": "code",
   "execution_count": 11,
   "metadata": {},
   "outputs": [],
   "source": [
    "# wait some time to load the page\n",
    "WAIT_TIME(5)"
   ]
  },
  {
   "cell_type": "code",
   "execution_count": 12,
   "metadata": {},
   "outputs": [
    {
     "name": "stdout",
     "output_type": "stream",
     "text": [
      "Selected option: Anakapalli\n"
     ]
    }
   ],
   "source": [
    "district_dropdown = driver.find_element(By.NAME, \"district\")\n",
    "\n",
    "# Create a Select object\n",
    "select = Select(district_dropdown)\n",
    "\n",
    "# Select an option by its visible text\n",
    "select.select_by_visible_text(district)\n",
    "\n",
    "# Verify the selected option\n",
    "selected_option = select.first_selected_option\n",
    "\n",
    "print(f\"Selected option: {selected_option.text}\")"
   ]
  },
  {
   "cell_type": "code",
   "execution_count": 13,
   "metadata": {},
   "outputs": [],
   "source": [
    "dropdown_input = driver.find_element(By.ID, \"react-select-2-input\")\n",
    "\n",
    "# Click the input to open the dropdown\n",
    "dropdown_input.click()\n",
    "\n",
    "# Wait for the dropdown options to appear\n",
    "WAIT_TIME(1)\n",
    "\n",
    "# Enter the desired option text\n",
    "dropdown_input.send_keys(assembly)\n",
    "\n",
    "# Press Enter to select the option\n",
    "dropdown_input.send_keys(Keys.ENTER)\n",
    "\n",
    "WAIT_TIME(2)"
   ]
  },
  {
   "cell_type": "code",
   "execution_count": 14,
   "metadata": {},
   "outputs": [
    {
     "name": "stdout",
     "output_type": "stream",
     "text": [
      "Selected option: ENG\n"
     ]
    }
   ],
   "source": [
    "lang_dropdown = driver.find_element(By.NAME, \"langCd\")\n",
    "\n",
    "# Create a Select object\n",
    "select = Select(lang_dropdown)\n",
    "\n",
    "# Select an option by its visible text\n",
    "select.select_by_visible_text(language)\n",
    "\n",
    "# Verify the selected option\n",
    "selected_option = select.first_selected_option\n",
    "\n",
    "print(f\"Selected option: {selected_option.text}\")\n",
    "\n",
    "WAIT_TIME(2)"
   ]
  },
  {
   "cell_type": "code",
   "execution_count": 15,
   "metadata": {},
   "outputs": [],
   "source": [
    "# Need to get the captcha from the user , scan it using OCR and enter it in the input box\n",
    "\n",
    "def save_captcha(i=0):\n",
    "    # Locate the captcha image in the current window\n",
    "    # driver.get(driver.current_url)\n",
    "    captcha_element = driver.find_element(By.XPATH, \"//img[@alt='captcha']\")\n",
    "\n",
    "    # captcha_element = driver.find_element(By.TAG_NAME,'img')\n",
    "    # print(captcha_element)\n",
    "    # print(dir(captcha_element))\n",
    "    captcha_base64 = captcha_element.get_attribute('src').split(',')[1]\n",
    "    # print(captcha_base64)\n",
    "\n",
    "    # # Decode the base64 data\n",
    "    captcha_data = base64.b64decode(captcha_base64)\n",
    "\n",
    "    # Save the CAPTCHA as an image file\n",
    "    captcha_path = f'captcha.jpg'\n",
    "    with open(captcha_path, 'wb') as f:\n",
    "        f.write(captcha_data)\n",
    "\n",
    "    print(f\"CAPTCHA saved at {captcha_path}\")\n",
    "\n",
    "# set text in the captcha input box\n",
    "def set_captcha_text(text):\n",
    "    captcha_input = driver.find_element(By.NAME, \"captcha\")\n",
    "    # clear the captcha input box\n",
    "    captcha_input.clear()\n",
    "    captcha_input.send_keys(text)\n",
    "\n",
    "def refresh_and_save(i=0) :\n",
    "    # Locate the element by its alt attribute\n",
    "    element = driver.find_element(By.XPATH, \"//img[@alt='refresh']\")\n",
    "    # Perform the click action\n",
    "    ActionChains(driver).move_to_element(element).click().perform()\n",
    "    # re save the captcha\n",
    "    save_captcha(i=i)\n",
    "\n",
    "def find_text():\n",
    "    from infer import CNNRNNModel,Image2Text\n",
    "    img2text = Image2Text()\n",
    "    img = cv2.imread('captcha.jpg')\n",
    "    text = img2text.FindText(img)\n",
    "    return text"
   ]
  },
  {
   "cell_type": "code",
   "execution_count": 16,
   "metadata": {},
   "outputs": [],
   "source": [
    "# Dataset Preparation to train a model\n",
    "# for i in range(0,5000):\n",
    "#     refresh_and_save(i=i)\n",
    "#     time.sleep(1)"
   ]
  },
  {
   "cell_type": "code",
   "execution_count": 17,
   "metadata": {},
   "outputs": [],
   "source": [
    "# # plot images and ask text to resave the image with that name\n",
    "# PATH = 'Images/'\n",
    "# import os\n",
    "\n",
    "# for i in os.listdir(PATH):\n",
    "#     if i.endswith('.jpg'):\n",
    "#         img = cv2.imread(PATH+i)\n",
    "#         img = cv2.cvtColor(img, cv2.COLOR_BGR2RGB)\n",
    "#         plt.imshow(img)\n",
    "#         plt.show()\n",
    "#         text = input(\"Enter the text: \")\n",
    "#         # save the image with the text\n",
    "#         cv2.imwrite(PATH+text+'.jpg', img)"
   ]
  },
  {
   "cell_type": "code",
   "execution_count": 18,
   "metadata": {},
   "outputs": [
    {
     "name": "stdout",
     "output_type": "stream",
     "text": [
      "Selected option: Show 50 Records\n"
     ]
    }
   ],
   "source": [
    "# Select 50 Records\n",
    "dropdown = driver.find_element(By.CSS_SELECTOR, 'select.search-bar.search-bar2')\n",
    "\n",
    "# Create a Select object\n",
    "select = Select(dropdown)\n",
    "\n",
    "# Select the last option (e.g., 50 Records)\n",
    "select.select_by_index(len(select.options) - 1)\n",
    "\n",
    "# Verify the selection (optional)\n",
    "selected_option = select.first_selected_option\n",
    "print(f\"Selected option: {selected_option.text}\")\n",
    "\n",
    "WAIT_TIME(2)"
   ]
  },
  {
   "cell_type": "code",
   "execution_count": 19,
   "metadata": {},
   "outputs": [
    {
     "name": "stdout",
     "output_type": "stream",
     "text": [
      "1 - krishnampalem\n"
     ]
    }
   ],
   "source": [
    "element = driver.find_element(By.XPATH, '//tr/td[@role=\"cell\"]')\n",
    "print(element.text)"
   ]
  },
  {
   "cell_type": "code",
   "execution_count": 20,
   "metadata": {},
   "outputs": [
    {
     "name": "stdout",
     "output_type": "stream",
     "text": [
      "1 - krishnampalem\n",
      "2 - krishnampalem\n",
      "3 - M.Koduru\n",
      "4 - M.Koduru\n",
      "5 - M. KODURU\n",
      "6 - Tatiparthi\n",
      "7 - Kasipuram\n",
      "8 - Sagaram\n",
      "9 - D.Suravaram\n",
      "10 - D.Gottivada\n",
      "11 - Jampena\n",
      "12 - Veeranarayanam\n",
      "13 - VEERANARAYANAM\n",
      "14 - veeranarayanam\n",
      "15 - Chintaluru\n",
      "16 - M. Kotapadu\n",
      "17 - M KOTAPADU\n",
      "18 - M. KOTAPADU\n",
      "19 - M.kotapadu vallapuram\n",
      "20 - V.Madugula\n",
      "21 - MADUGULA\n",
      "22 - V.Madugula\n",
      "23 - V.Madugula\n",
      "24 - Madugula\n",
      "25 - V.Madugula\n",
      "26 - V MADUGULA\n",
      "27 - V.Madugula\n",
      "28 - V.Madugula\n",
      "29 - MLAADUGU\n",
      "30 - V.MADUGULA\n",
      "31 - V.Madugula\n",
      "32 - V.Madugula\n",
      "33 - Jalampalli\n",
      "34 - JALAMPALLI\n",
      "35 - Jalampalli\n",
      "36 - Narasayya peta\n",
      "37 - NARASAYYAPETA H/O L PONNAVOLU\n",
      "38 - Jammadevipeta\n",
      "39 - JAMMADEVIPETA\n",
      "40 - Satyavaram\n",
      "41 - SATYAVARAM\n",
      "42 - Gadirayi\n",
      "43 - GADHIRAYI\n",
      "44 - M.Krishnapuram\n",
      "45 - Vommali\n",
      "46 - VOMMALI\n",
      "47 - vommali\n",
      "48 - V.J. Puram\n",
      "49 - kinthali\n",
      "50 - Kinthali Vallapuram\n"
     ]
    }
   ],
   "source": [
    "# Find all the table rows\n",
    "rows = driver.find_elements(By.XPATH, '//tbody/tr')\n",
    "\n",
    "# Extract names from the first column of each row\n",
    "names = []\n",
    "for row in rows:\n",
    "    cell_text = row.find_element(By.XPATH, './td[1]').text\n",
    "    # Extract the name part after the number and hyphen\n",
    "    print(cell_text)\n",
    "    # name = cell_text.split(' - ')[1]\n",
    "    # names.append(name)\n",
    "\n",
    "# print(names)"
   ]
  },
  {
   "cell_type": "code",
   "execution_count": 21,
   "metadata": {},
   "outputs": [],
   "source": [
    "def HandleCaptcha() :\n",
    "    # save the captcha\n",
    "    save_captcha()\n",
    "    # find the text in the captcha\n",
    "    captcha_text = find_text()\n",
    "    print(f\"CAPTCHA Text: {captcha_text}\")\n",
    "    # set the captcha text in the input box\n",
    "    set_captcha_text(captcha_text)"
   ]
  },
  {
   "cell_type": "code",
   "execution_count": 22,
   "metadata": {},
   "outputs": [],
   "source": [
    "def get_row_name(row) :\n",
    "    cell_text = row.find_element(By.XPATH, f'./td[1]').text\n",
    "    # print(cell_text)\n",
    "    return cell_text"
   ]
  },
  {
   "cell_type": "code",
   "execution_count": 23,
   "metadata": {},
   "outputs": [],
   "source": [
    "def process_row(row):\n",
    "    try:\n",
    "        HandleCaptcha()\n",
    "        # Extract the text from the first <td> cell\n",
    "        cell = row.find_element(By.XPATH, \".//td[@role='cell']\").text\n",
    "        # Extract number and name\n",
    "        number, name = cell.split(\" - \", 1)\n",
    "        print(f\"Number: {number.strip()}, Name: {name.strip()}\")\n",
    "\n",
    "        # Find all download icons in the row using alt as download icon\n",
    "        download_icons = row.find_elements(By.XPATH, \".//img[@alt='download icon']\")\n",
    "\n",
    "        # Ensure there are at least three download icons\n",
    "        if len(download_icons) < 3:\n",
    "            print(\"Less than 3 download icons found in the row.\")\n",
    "            return False\n",
    "\n",
    "        # Click the third download icon\n",
    "        download_icons[2].click()\n",
    "        print('Clicked the third download icon!')\n",
    "\n",
    "        # Wait for the alert message to be present and check if it exists\n",
    "        alert = WebDriverWait(driver, 10).until(\n",
    "            EC.presence_of_element_located((By.CSS_SELECTOR, 'div.alert_global'))\n",
    "        )\n",
    "\n",
    "        try :\n",
    "            # Find the complete alert message with sub-elements\n",
    "            alert_message = alert.find_element(By.XPATH, './div')\n",
    "            print('=' * 50)\n",
    "            print(f'{alert_message.text}')\n",
    "            print('-' * 50)\n",
    "        except NoSuchElementException:\n",
    "            print(\"No alert message displayed.\")\n",
    "\n",
    "        return True\n",
    "\n",
    "    except (NoSuchElementException, TimeoutException) as e:\n",
    "        print(f\"Exception encountered: {e}\")\n",
    "        HandleCaptcha()\n",
    "        # Retry processing the same row\n",
    "        time.sleep(2)  # Wait a bit before retrying\n",
    "        return False"
   ]
  },
  {
   "cell_type": "code",
   "execution_count": 24,
   "metadata": {},
   "outputs": [],
   "source": [
    "# HandleCaptcha()\n",
    "def DownloadFiles() :\n",
    "    rows = driver.find_elements(By.XPATH, \"//tbody//tr\")\n",
    "    count = 0\n",
    "    for row in rows:\n",
    "        # print(row)\n",
    "        if count % 10 == 0:\n",
    "            if process_row(row):\n",
    "                cell_text = row.find_element(By.XPATH, './td[1]').text\n",
    "                # Extract the name part after the number and hyphen\n",
    "                print(f\"{cell_text} - Successfully processed the row.\")\n",
    "                print(f'=' * 50)\n",
    "                WAIT_TIME(20)\n",
    "            else :\n",
    "                print(\"Failed to process the row.\")\n",
    "                break\n",
    "            # print(get_row_name(row))\n",
    "        count += 1"
   ]
  },
  {
   "cell_type": "code",
   "execution_count": 25,
   "metadata": {},
   "outputs": [
    {
     "name": "stdout",
     "output_type": "stream",
     "text": [
      "CAPTCHA saved at captcha.jpg\n",
      "CAPTCHA Text: h4s9c7\n",
      "Number: 1, Name: krishnampalem\n",
      "Clicked the third download icon!\n",
      "No alert message displayed.\n",
      "1 - krishnampalem - Successfully processed the row.\n",
      "==================================================\n",
      "CAPTCHA saved at captcha.jpg\n",
      "CAPTCHA Text: u4zgb7\n",
      "Number: 11, Name: Jampena\n",
      "Clicked the third download icon!\n",
      "No alert message displayed.\n",
      "11 - Jampena - Successfully processed the row.\n",
      "==================================================\n",
      "CAPTCHA saved at captcha.jpg\n",
      "CAPTCHA Text: wvhrta\n",
      "Number: 21, Name: MADUGULA\n",
      "Clicked the third download icon!\n",
      "No alert message displayed.\n",
      "21 - MADUGULA - Successfully processed the row.\n",
      "==================================================\n",
      "CAPTCHA saved at captcha.jpg\n",
      "CAPTCHA Text: heog8w\n",
      "Number: 31, Name: V.Madugula\n",
      "Clicked the third download icon!\n",
      "No alert message displayed.\n",
      "31 - V.Madugula - Successfully processed the row.\n",
      "==================================================\n",
      "CAPTCHA saved at captcha.jpg\n",
      "CAPTCHA Text: k8vj23\n",
      "Number: 41, Name: SATYAVARAM\n",
      "Clicked the third download icon!\n",
      "No alert message displayed.\n",
      "41 - SATYAVARAM - Successfully processed the row.\n",
      "==================================================\n",
      "Button clicked!\n",
      "CAPTCHA saved at captcha.jpg\n",
      "CAPTCHA Text: gdpia3\n",
      "Number: 51, Name: Kinthali Vallapuram\n",
      "Clicked the third download icon!\n",
      "No alert message displayed.\n",
      "51 - Kinthali Vallapuram - Successfully processed the row.\n",
      "==================================================\n",
      "CAPTCHA saved at captcha.jpg\n",
      "CAPTCHA Text: bl3kzh\n",
      "Number: 61, Name: K.J.Puram\n",
      "Clicked the third download icon!\n",
      "No alert message displayed.\n",
      "61 - K.J.Puram - Successfully processed the row.\n",
      "==================================================\n",
      "CAPTCHA saved at captcha.jpg\n",
      "CAPTCHA Text: xu272i\n",
      "Number: 71, Name: Khandivaram\n",
      "Clicked the third download icon!\n",
      "No alert message displayed.\n",
      "71 - Khandivaram - Successfully processed the row.\n",
      "==================================================\n",
      "CAPTCHA saved at captcha.jpg\n",
      "CAPTCHA Text: vctmim\n",
      "Number: 81, Name: Dibbapalem\n",
      "Clicked the third download icon!\n",
      "No alert message displayed.\n",
      "81 - Dibbapalem - Successfully processed the row.\n",
      "==================================================\n",
      "CAPTCHA saved at captcha.jpg\n",
      "CAPTCHA Text: w6setx\n",
      "Number: 91, Name: Manchala\n",
      "Clicked the third download icon!\n",
      "No alert message displayed.\n",
      "91 - Manchala - Successfully processed the row.\n",
      "==================================================\n"
     ]
    },
    {
     "ename": "KeyboardInterrupt",
     "evalue": "",
     "output_type": "error",
     "traceback": [
      "\u001b[0;31m---------------------------------------------------------------------------\u001b[0m",
      "\u001b[0;31mKeyboardInterrupt\u001b[0m                         Traceback (most recent call last)",
      "Cell \u001b[0;32mIn[25], line 2\u001b[0m\n\u001b[1;32m      1\u001b[0m \u001b[38;5;28;01mwhile\u001b[39;00m \u001b[38;5;28;01mTrue\u001b[39;00m :\n\u001b[0;32m----> 2\u001b[0m     \u001b[43mDownloadFiles\u001b[49m\u001b[43m(\u001b[49m\u001b[43m)\u001b[49m\n\u001b[1;32m      3\u001b[0m     buttons \u001b[38;5;241m=\u001b[39m driver\u001b[38;5;241m.\u001b[39mfind_elements(By\u001b[38;5;241m.\u001b[39mCSS_SELECTOR, \u001b[38;5;124m\"\u001b[39m\u001b[38;5;124mbutton.control-btn\u001b[39m\u001b[38;5;124m\"\u001b[39m)\n\u001b[1;32m      4\u001b[0m     button_to_click \u001b[38;5;241m=\u001b[39m \u001b[38;5;28;01mNone\u001b[39;00m\n",
      "Cell \u001b[0;32mIn[24], line 13\u001b[0m, in \u001b[0;36mDownloadFiles\u001b[0;34m()\u001b[0m\n\u001b[1;32m     11\u001b[0m     \u001b[38;5;28mprint\u001b[39m(\u001b[38;5;124mf\u001b[39m\u001b[38;5;124m\"\u001b[39m\u001b[38;5;132;01m{\u001b[39;00mcell_text\u001b[38;5;132;01m}\u001b[39;00m\u001b[38;5;124m - Successfully processed the row.\u001b[39m\u001b[38;5;124m\"\u001b[39m)\n\u001b[1;32m     12\u001b[0m     \u001b[38;5;28mprint\u001b[39m(\u001b[38;5;124mf\u001b[39m\u001b[38;5;124m'\u001b[39m\u001b[38;5;124m=\u001b[39m\u001b[38;5;124m'\u001b[39m \u001b[38;5;241m*\u001b[39m \u001b[38;5;241m50\u001b[39m)\n\u001b[0;32m---> 13\u001b[0m     \u001b[43mWAIT_TIME\u001b[49m\u001b[43m(\u001b[49m\u001b[38;5;241;43m20\u001b[39;49m\u001b[43m)\u001b[49m\n\u001b[1;32m     14\u001b[0m \u001b[38;5;28;01melse\u001b[39;00m :\n\u001b[1;32m     15\u001b[0m     \u001b[38;5;28mprint\u001b[39m(\u001b[38;5;124m\"\u001b[39m\u001b[38;5;124mFailed to process the row.\u001b[39m\u001b[38;5;124m\"\u001b[39m)\n",
      "Cell \u001b[0;32mIn[3], line 2\u001b[0m, in \u001b[0;36mWAIT_TIME\u001b[0;34m(t)\u001b[0m\n\u001b[1;32m      1\u001b[0m \u001b[38;5;28;01mdef\u001b[39;00m \u001b[38;5;21mWAIT_TIME\u001b[39m(t\u001b[38;5;241m=\u001b[39m\u001b[38;5;241m0.5\u001b[39m) :\n\u001b[0;32m----> 2\u001b[0m     \u001b[43mtime\u001b[49m\u001b[38;5;241;43m.\u001b[39;49m\u001b[43msleep\u001b[49m\u001b[43m(\u001b[49m\u001b[43mt\u001b[49m\u001b[43m)\u001b[49m\n",
      "\u001b[0;31mKeyboardInterrupt\u001b[0m: "
     ]
    }
   ],
   "source": [
    "while True :\n",
    "    DownloadFiles()\n",
    "    buttons = driver.find_elements(By.CSS_SELECTOR, \"button.control-btn\")\n",
    "    button_to_click = None\n",
    "    for button in buttons:\n",
    "        if button.text.strip() == \">\":\n",
    "            button_to_click = button\n",
    "            break\n",
    "\n",
    "    if not button_to_click:\n",
    "        print(f'There is no button to click. Downloaded all files. from the {district} district , {assembly} assembly constituency.')\n",
    "        break\n",
    "\n",
    "    if button_to_click.get_attribute(\"disabled\"):\n",
    "        print(f'Downloaded all files. from the {district} district , {assembly} assembly constituency.')\n",
    "        break\n",
    "    else:\n",
    "        button_to_click.click()\n",
    "        print(\"Button clicked!\")\n",
    "\n",
    "    WAIT_TIME(2)\n",
    "    # Update page"
   ]
  },
  {
   "cell_type": "code",
   "execution_count": null,
   "metadata": {},
   "outputs": [],
   "source": []
  }
 ],
 "metadata": {
  "kernelspec": {
   "display_name": "AI",
   "language": "python",
   "name": "python3"
  },
  "language_info": {
   "codemirror_mode": {
    "name": "ipython",
    "version": 3
   },
   "file_extension": ".py",
   "mimetype": "text/x-python",
   "name": "python",
   "nbconvert_exporter": "python",
   "pygments_lexer": "ipython3",
   "version": "3.10.14"
  }
 },
 "nbformat": 4,
 "nbformat_minor": 2
}
